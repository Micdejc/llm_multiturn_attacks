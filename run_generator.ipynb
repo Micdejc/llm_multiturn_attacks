{
 "cells": [
  {
   "cell_type": "code",
   "execution_count": 1,
   "id": "7e288790-f10e-4763-9991-337c0d769d9a",
   "metadata": {},
   "outputs": [
    {
     "name": "stdout",
     "output_type": "stream",
     "text": [
      "An error occurred: 'Prompt 1'\n",
      "Full traceback:\n"
     ]
    },
    {
     "name": "stderr",
     "output_type": "stream",
     "text": [
      "Traceback (most recent call last):\n",
      "  File \"C:\\Users\\Michael\\Desktop\\PhD_Experimentation\\Github\\multiturn_dataset_generator.py\", line 508, in generate_multiturn_dataset\n",
      "    'Present Turn 1': prompts_3_present['Prompt 1'],\n",
      "                      ~~~~~~~~~~~~~~~~~^^^^^^^^^^^^\n",
      "KeyError: 'Prompt 1'\n"
     ]
    }
   ],
   "source": [
    "# run_generator\n",
    "\n",
    "import importlib\n",
    "\n",
    "# Import the module (not the class!)\n",
    "import multiturn_dataset_generator\n",
    "\n",
    "# Reload the module (if needed)\n",
    "importlib.reload(multiturn_dataset_generator)\n",
    "\n",
    "# Now import or use the class\n",
    "from multiturn_dataset_generator import MultiTurnDatasetGenerator\n",
    "\n",
    "if __name__ == \"__main__\":\n",
    "    \n",
    "    # Create an instance of the generator\n",
    "    generator = MultiTurnDatasetGenerator()\n",
    "\n",
    "    # Variable for number of iterations in multi-turn dataset or subdataset\n",
    "    nb_iter = 3\n",
    "\n",
    "    # Variable for past tense reformulation in multi-turn subdatasets\n",
    "    #is_past = False\n",
    "\n",
    "    # Optional variables for the row range (human level) to select from the input file\n",
    "    #min_row = None\n",
    "    #max_row = None\n",
    "\n",
    "    # We set the auxilliary LLM to close source LLM with index number 2 (Claude) from the list, Mistral is chosen by default. \n",
    "    # Refer to LLM lists in LLMAggregator Class\n",
    "    #generator.set_llm_index(False,2)\n",
    "\n",
    "    # We set the temperature index to 2 (0.9) from the list. Index of 0 (value: 0.1) is chosen by default. \n",
    "    # Refer to TEMPS lists in LLMAggregator Class\n",
    "    #generator.set_temperature_index(2)\n",
    "    \n",
    "    # Launch the generation of multiturn sub-datasets depending on the number of iterations  and tense reformulation\n",
    "    # generator.generate_multiturn_subdataset(nb_iter, is_past, min_row, max_row)\n",
    "    \n",
    "    # Launch the generation of multiturn datasets depending on the number of iterations\n",
    "    #generator.generate_multiturn_dataset(nb_iter, min_row, max_row)\n",
    "    generator.generate_multiturn_dataset(nb_iter)\n"
   ]
  },
  {
   "cell_type": "code",
   "execution_count": null,
   "id": "4d0693ce-67d8-4b77-b30e-ae8b33d68dda",
   "metadata": {},
   "outputs": [],
   "source": []
  }
 ],
 "metadata": {
  "kernelspec": {
   "display_name": "Python 3 (ipykernel)",
   "language": "python",
   "name": "python3"
  },
  "language_info": {
   "codemirror_mode": {
    "name": "ipython",
    "version": 3
   },
   "file_extension": ".py",
   "mimetype": "text/x-python",
   "name": "python",
   "nbconvert_exporter": "python",
   "pygments_lexer": "ipython3",
   "version": "3.13.3"
  }
 },
 "nbformat": 4,
 "nbformat_minor": 5
}
